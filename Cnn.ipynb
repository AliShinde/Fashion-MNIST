{
 "cells": [
  {
   "cell_type": "code",
   "execution_count": 1,
   "id": "f841181d",
   "metadata": {},
   "outputs": [],
   "source": [
    "import numpy as np\n",
    "import pandas as pd\n",
    "from mlxtend.data import loadlocal_mnist\n",
    "import matplotlib.pyplot as plt\n",
    "%matplotlib inline\n",
    "import tensorflow as tf\n",
    "from tensorflow.keras.models import Sequential\n",
    "from tensorflow.keras.layers import Dense, Conv2D, MaxPooling2D, Flatten, Dropout\n",
    "from tensorflow.keras.optimizers import Adam"
   ]
  },
  {
   "cell_type": "code",
   "execution_count": 2,
   "id": "e6fe5b7d",
   "metadata": {},
   "outputs": [],
   "source": [
    "training_file_path = r'D:\\image\\train-images-idx3-ubyte'\n",
    "training_labels_file_path = r'D:\\image\\train-labels-idx1-ubyte'\n",
    "testing_file_path = r'D:\\image\\t10k-images-idx3-ubyte'\n",
    "testing_labels_file_path = r'D:\\image\\t10k-labels-idx1-ubyte'"
   ]
  },
  {
   "cell_type": "code",
   "execution_count": 3,
   "id": "bb78d831",
   "metadata": {},
   "outputs": [],
   "source": [
    "X_train, y_train = loadlocal_mnist(training_file_path, training_labels_file_path)\n",
    "X_test, y_test = loadlocal_mnist(testing_file_path, testing_labels_file_path)"
   ]
  },
  {
   "cell_type": "code",
   "execution_count": 4,
   "id": "e8aec25e",
   "metadata": {},
   "outputs": [
    {
     "name": "stdout",
     "output_type": "stream",
     "text": [
      "(60000, 784)\n",
      "(10000, 784)\n"
     ]
    }
   ],
   "source": [
    "print(np.shape(X_train))\n",
    "print(np.shape(X_test))"
   ]
  },
  {
   "cell_type": "code",
   "execution_count": 5,
   "id": "68451265",
   "metadata": {},
   "outputs": [],
   "source": [
    "# Reshaping the images to 28 x 28 \n",
    "# Since the images are grayscale therefore we specify number of channels as 1\n",
    "X_train = X_train.reshape(60000, 28,28,1)\n",
    "X_test = X_test.reshape(10000, 28,28,1)"
   ]
  },
  {
   "cell_type": "code",
   "execution_count": 6,
   "id": "722f782e",
   "metadata": {},
   "outputs": [
    {
     "data": {
      "text/plain": [
       "(60000, 28, 28, 1)"
      ]
     },
     "execution_count": 6,
     "metadata": {},
     "output_type": "execute_result"
    }
   ],
   "source": [
    "X_train.shape"
   ]
  },
  {
   "cell_type": "code",
   "execution_count": 7,
   "id": "9a3de2b8",
   "metadata": {},
   "outputs": [
    {
     "data": {
      "image/png": "[encoded data removed]",
      "text/plain": [
       "<Figure size 432x288 with 1 Axes>"
      ]
     },
     "metadata": {
      "needs_background": "light"
     },
     "output_type": "display_data"
    }
   ],
   "source": [
    "# Plotting a sample from the dataset\n",
    "plt.imshow(X_train[0], cmap = plt.cm.binary)\n",
    "plt.show()"
   ]
  },
  {
   "cell_type": "code",
   "execution_count": 8,
   "id": "c1ee9647",
   "metadata": {},
   "outputs": [],
   "source": [
    "# normalizing the data \n",
    "X_train = X_train/255.0\n",
    "X_test = X_test/255.0"
   ]
  },
  {
   "cell_type": "code",
   "execution_count": 9,
   "id": "da5d4b05",
   "metadata": {},
   "outputs": [],
   "source": [
    "cnn_model = Sequential()\n",
    "# The convolution layers for feature extraction\n",
    "cnn_model.add(Conv2D(filters= 32, kernel_size = (3,3), activation='relu',input_shape = (28,28,1)))\n",
    "# Using MaxPooling to reduce the computaion time by choosing the highest pixel density from the 2x2 matrix\n",
    "cnn_model.add(MaxPooling2D(pool_size = (2,2)))\n",
    "cnn_model.add(Conv2D(filters = 64, kernel_size= (3,3),activation='relu'))\n",
    "cnn_model.add(MaxPooling2D(pool_size = (2,2)))\n",
    "cnn_model.add(Conv2D(filters = 64, kernel_size=(3,3),activation='relu'))\n",
    "cnn_model.add(MaxPooling2D(pool_size = (2,2)))\n",
    "# Flattening the data to provide it as input for the Dense layer\n",
    "cnn_model.add(Flatten())\n",
    "# Building the final classification layer\n",
    "cnn_model.add(Dense(128,activation='relu'))\n",
    "cnn_model.add(Dropout(0.2))\n",
    "cnn_model.add(Dense(10,activation='softmax'))"
   ]
  },
  {
   "cell_type": "code",
   "execution_count": 10,
   "id": "166f4284",
   "metadata": {},
   "outputs": [],
   "source": [
    "# Compiling the model \n",
    "# Using sparse crossentropy since we are not applying one hot encoding \n",
    "cnn_model.compile(optimizer='adam',loss='sparse_categorical_crossentropy',metrics=['accuracy'])"
   ]
  },
  {
   "cell_type": "code",
   "execution_count": 13,
   "id": "8d45a1d1",
   "metadata": {},
   "outputs": [
    {
     "name": "stdout",
     "output_type": "stream",
     "text": [
      "Epoch 1/20\n",
      "1594/1594 [==============================] - 42s 26ms/step - loss: 0.2070 - accuracy: 0.9221 - val_loss: 0.3142 - val_accuracy: 0.8903\n",
      "Epoch 2/20\n",
      "1594/1594 [==============================] - 38s 24ms/step - loss: 0.1969 - accuracy: 0.9251 - val_loss: 0.3119 - val_accuracy: 0.8919\n",
      "Epoch 3/20\n",
      "1594/1594 [==============================] - 38s 24ms/step - loss: 0.1871 - accuracy: 0.9287 - val_loss: 0.3460 - val_accuracy: 0.8878\n",
      "Epoch 4/20\n",
      "1594/1594 [==============================] - 50s 31ms/step - loss: 0.1786 - accuracy: 0.9318 - val_loss: 0.3545 - val_accuracy: 0.8882\n",
      "Epoch 5/20\n",
      "1594/1594 [==============================] - 43s 27ms/step - loss: 0.1684 - accuracy: 0.9360 - val_loss: 0.3464 - val_accuracy: 0.8903\n",
      "Epoch 6/20\n",
      "1594/1594 [==============================] - 39s 24ms/step - loss: 0.1633 - accuracy: 0.9382 - val_loss: 0.3712 - val_accuracy: 0.8904\n",
      "Epoch 7/20\n",
      "1594/1594 [==============================] - 49s 31ms/step - loss: 0.1608 - accuracy: 0.9385 - val_loss: 0.3606 - val_accuracy: 0.8910\n",
      "Epoch 8/20\n",
      "1594/1594 [==============================] - 62s 39ms/step - loss: 0.1511 - accuracy: 0.9418 - val_loss: 0.3752 - val_accuracy: 0.8908\n",
      "Epoch 9/20\n",
      "1594/1594 [==============================] - 57s 36ms/step - loss: 0.1483 - accuracy: 0.9429 - val_loss: 0.3777 - val_accuracy: 0.8909\n",
      "Epoch 10/20\n",
      "1594/1594 [==============================] - 43s 27ms/step - loss: 0.1394 - accuracy: 0.9463 - val_loss: 0.3916 - val_accuracy: 0.8913\n",
      "Epoch 11/20\n",
      "1594/1594 [==============================] - 43s 27ms/step - loss: 0.1342 - accuracy: 0.9485 - val_loss: 0.3932 - val_accuracy: 0.8923\n",
      "Epoch 12/20\n",
      "1594/1594 [==============================] - 46s 29ms/step - loss: 0.1293 - accuracy: 0.9501 - val_loss: 0.4119 - val_accuracy: 0.8899\n",
      "Epoch 13/20\n",
      "1594/1594 [==============================] - 55s 34ms/step - loss: 0.1250 - accuracy: 0.9505 - val_loss: 0.4461 - val_accuracy: 0.8859\n",
      "Epoch 14/20\n",
      "1594/1594 [==============================] - 48s 30ms/step - loss: 0.1243 - accuracy: 0.9516 - val_loss: 0.4303 - val_accuracy: 0.8913\n",
      "Epoch 15/20\n",
      "1594/1594 [==============================] - 48s 30ms/step - loss: 0.1146 - accuracy: 0.9553 - val_loss: 0.4680 - val_accuracy: 0.8812\n",
      "Epoch 16/20\n",
      "1594/1594 [==============================] - 46s 29ms/step - loss: 0.1150 - accuracy: 0.9556 - val_loss: 0.4568 - val_accuracy: 0.8909\n",
      "Epoch 17/20\n",
      "1594/1594 [==============================] - 50s 31ms/step - loss: 0.1095 - accuracy: 0.9572 - val_loss: 0.4768 - val_accuracy: 0.8900\n",
      "Epoch 18/20\n",
      "1594/1594 [==============================] - 43s 27ms/step - loss: 0.1049 - accuracy: 0.9588 - val_loss: 0.4763 - val_accuracy: 0.8890\n",
      "Epoch 19/20\n",
      "1594/1594 [==============================] - 47s 29ms/step - loss: 0.1046 - accuracy: 0.9600 - val_loss: 0.5148 - val_accuracy: 0.8879\n",
      "Epoch 20/20\n",
      "1594/1594 [==============================] - 47s 29ms/step - loss: 0.0968 - accuracy: 0.9631 - val_loss: 0.4889 - val_accuracy: 0.8931\n"
     ]
    },
    {
     "data": {
      "text/plain": [
       "<tensorflow.python.keras.callbacks.History at 0x1c52a987d30>"
      ]
     },
     "execution_count": 13,
     "metadata": {},
     "output_type": "execute_result"
    }
   ],
   "source": [
    "model = cnn_model.fit(X_train,y_train,epochs = 20,validation_split=0.15)"
   ]
  },
  {
   "cell_type": "code",
   "execution_count": 14,
   "id": "fe6db92b",
   "metadata": {},
   "outputs": [
    {
     "name": "stdout",
     "output_type": "stream",
     "text": [
      "313/313 [==============================] - 3s 8ms/step - loss: 0.5078 - accuracy: 0.8899\n"
     ]
    },
    {
     "data": {
      "text/plain": [
       "[0.507775068283081, 0.8899000287055969]"
      ]
     },
     "execution_count": 14,
     "metadata": {},
     "output_type": "execute_result"
    }
   ],
   "source": [
    "cnn_model.evaluate(X_test,y_test)"
   ]
  },
  {
   "cell_type": "code",
   "execution_count": null,
   "id": "ece6227f",
   "metadata": {},
   "outputs": [],
   "source": []
  },
  {
   "cell_type": "code",
   "execution_count": null,
   "id": "a6ce580e",
   "metadata": {},
   "outputs": [],
   "source": []
  },
  {
   "cell_type": "code",
   "execution_count": null,
   "id": "d3c1fdae",
   "metadata": {},
   "outputs": [],
   "source": []
  }
 ],
 "metadata": {
  "kernelspec": {
   "display_name": "Python 3",
   "language": "python",
   "name": "python3"
  },
  "language_info": {
   "codemirror_mode": {
    "name": "ipython",
    "version": 3
   },
   "file_extension": ".py",
   "mimetype": "text/x-python",
   "name": "python",
   "nbconvert_exporter": "python",
   "pygments_lexer": "ipython3",
   "version": "3.8.8"
  }
 },
 "nbformat": 4,
 "nbformat_minor": 5
}
